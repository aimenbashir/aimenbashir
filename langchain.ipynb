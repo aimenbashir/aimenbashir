{
 "cells": [
  {
   "cell_type": "markdown",
   "metadata": {},
   "source": [
    "### Python-dotenv"
   ]
  },
  {
   "cell_type": "code",
   "execution_count": 2,
   "metadata": {},
   "outputs": [
    {
     "data": {
      "text/plain": [
       "True"
      ]
     },
     "execution_count": 2,
     "metadata": {},
     "output_type": "execute_result"
    }
   ],
   "source": [
    "from dotenv import  load_dotenv, find_dotenv\n",
    "load_dotenv(find_dotenv(), override=True)"
   ]
  },
  {
   "cell_type": "code",
   "execution_count": null,
   "metadata": {},
   "outputs": [],
   "source": []
  },
  {
   "cell_type": "markdown",
   "metadata": {},
   "source": [
    "### Chat Models: GPT-3.5 Turbo and GPT-4"
   ]
  },
  {
   "cell_type": "code",
   "execution_count": 22,
   "metadata": {},
   "outputs": [
    {
     "name": "stdout",
     "output_type": "stream",
     "text": [
      "Why don't skeletons fight each other?\n",
      "\n",
      "They don't have the guts!\n"
     ]
    }
   ],
   "source": [
    "# ! pip install langchain_openai\n",
    "from langchain_openai import ChatOpenAI\n",
    "\n",
    "llm = ChatOpenAI()\n",
    "\n",
    "output = llm.invoke(\"tell me a joke\", model=\"gpt-4o\")\n",
    "print(output.content)"
   ]
  },
  {
   "cell_type": "code",
   "execution_count": null,
   "metadata": {},
   "outputs": [
    {
     "name": "stdout",
     "output_type": "stream",
     "text": [
      "In the context of medicine, a variable is any factor or condition that can be measured, controlled, or manipulated in a research study or clinical trial. Variables can include biological factors such as age, gender, blood pressure, and genetic markers, as well as environmental factors like diet, exercise, and exposure to toxins. Understanding and analyzing variables is essential in medical research to draw conclusions about the relationships between different factors and health outcomes.\n"
     ]
    }
   ],
   "source": [
    "from langchain.schema import (\n",
    "    SystemMessage,\n",
    "    AIMessage,\n",
    "    HumanMessage\n",
    ")\n",
    "\n",
    "messages = [\n",
    "    SystemMessage(content=\"You are a doctor\"),\n",
    "    HumanMessage(content=\"What is a Variable?\")\n",
    "]\n",
    "\n",
    "output = llm.invoke(messages)\n",
    "print(output.content)"
   ]
  },
  {
   "cell_type": "markdown",
   "metadata": {},
   "source": [
    "### Caching in Langchain"
   ]
  },
  {
   "cell_type": "markdown",
   "metadata": {},
   "source": [
    "Caching is the practice of storing frequently accessed data or result in a temporary, faster storage layer.\n",
    "\n",
    "Caching optimizes interactions with LLMs by resucing API calls and speeding up applications, resulting in a more efficient user experince. "
   ]
  },
  {
   "cell_type": "code",
   "execution_count": 14,
   "metadata": {},
   "outputs": [],
   "source": [
    "## IN Memory Cache\n",
    "from langchain.globals import set_llm_cache\n",
    "from langchain_openai import OpenAI\n",
    "\n",
    "llm = OpenAI(model_name='gpt-3.5-turbo-instruct')"
   ]
  },
  {
   "cell_type": "code",
   "execution_count": 8,
   "metadata": {},
   "outputs": [
    {
     "name": "stdout",
     "output_type": "stream",
     "text": [
      "Collecting langchain_community\n",
      "  Downloading langchain_community-0.3.4-py3-none-any.whl.metadata (2.9 kB)\n",
      "Requirement already satisfied: PyYAML>=5.3 in c:\\users\\hp\\anaconda3\\lib\\site-packages (from langchain_community) (6.0.1)\n",
      "Requirement already satisfied: SQLAlchemy<3,>=1.4 in c:\\users\\hp\\anaconda3\\lib\\site-packages (from langchain_community) (2.0.30)\n",
      "Requirement already satisfied: aiohttp<4.0.0,>=3.8.3 in c:\\users\\hp\\anaconda3\\lib\\site-packages (from langchain_community) (3.9.5)\n",
      "Collecting dataclasses-json<0.7,>=0.5.7 (from langchain_community)\n",
      "  Using cached dataclasses_json-0.6.7-py3-none-any.whl.metadata (25 kB)\n",
      "Collecting httpx-sse<0.5.0,>=0.4.0 (from langchain_community)\n",
      "  Downloading httpx_sse-0.4.0-py3-none-any.whl.metadata (9.0 kB)\n",
      "Collecting langchain<0.4.0,>=0.3.6 (from langchain_community)\n",
      "  Downloading langchain-0.3.6-py3-none-any.whl.metadata (7.1 kB)\n",
      "Collecting langchain-core<0.4.0,>=0.3.14 (from langchain_community)\n",
      "  Downloading langchain_core-0.3.14-py3-none-any.whl.metadata (6.3 kB)\n",
      "Requirement already satisfied: langsmith<0.2.0,>=0.1.125 in c:\\users\\hp\\anaconda3\\lib\\site-packages (from langchain_community) (0.1.137)\n",
      "Requirement already satisfied: numpy<2.0.0,>=1.26.0 in c:\\users\\hp\\anaconda3\\lib\\site-packages (from langchain_community) (1.26.4)\n",
      "Collecting pydantic-settings<3.0.0,>=2.4.0 (from langchain_community)\n",
      "  Downloading pydantic_settings-2.6.0-py3-none-any.whl.metadata (3.5 kB)\n",
      "Requirement already satisfied: requests<3,>=2 in c:\\users\\hp\\anaconda3\\lib\\site-packages (from langchain_community) (2.32.2)\n",
      "Requirement already satisfied: tenacity!=8.4.0,<10,>=8.1.0 in c:\\users\\hp\\anaconda3\\lib\\site-packages (from langchain_community) (8.2.2)\n",
      "Requirement already satisfied: aiosignal>=1.1.2 in c:\\users\\hp\\anaconda3\\lib\\site-packages (from aiohttp<4.0.0,>=3.8.3->langchain_community) (1.2.0)\n",
      "Requirement already satisfied: attrs>=17.3.0 in c:\\users\\hp\\anaconda3\\lib\\site-packages (from aiohttp<4.0.0,>=3.8.3->langchain_community) (23.1.0)\n",
      "Requirement already satisfied: frozenlist>=1.1.1 in c:\\users\\hp\\anaconda3\\lib\\site-packages (from aiohttp<4.0.0,>=3.8.3->langchain_community) (1.4.0)\n",
      "Requirement already satisfied: multidict<7.0,>=4.5 in c:\\users\\hp\\anaconda3\\lib\\site-packages (from aiohttp<4.0.0,>=3.8.3->langchain_community) (6.0.4)\n",
      "Requirement already satisfied: yarl<2.0,>=1.0 in c:\\users\\hp\\anaconda3\\lib\\site-packages (from aiohttp<4.0.0,>=3.8.3->langchain_community) (1.9.3)\n",
      "Collecting marshmallow<4.0.0,>=3.18.0 (from dataclasses-json<0.7,>=0.5.7->langchain_community)\n",
      "  Downloading marshmallow-3.23.0-py3-none-any.whl.metadata (7.6 kB)\n",
      "Collecting typing-inspect<1,>=0.4.0 (from dataclasses-json<0.7,>=0.5.7->langchain_community)\n",
      "  Using cached typing_inspect-0.9.0-py3-none-any.whl.metadata (1.5 kB)\n",
      "Requirement already satisfied: langchain-text-splitters<0.4.0,>=0.3.0 in c:\\users\\hp\\anaconda3\\lib\\site-packages (from langchain<0.4.0,>=0.3.6->langchain_community) (0.3.0)\n",
      "Requirement already satisfied: pydantic<3.0.0,>=2.7.4 in c:\\users\\hp\\anaconda3\\lib\\site-packages (from langchain<0.4.0,>=0.3.6->langchain_community) (2.9.2)\n",
      "Requirement already satisfied: jsonpatch<2.0,>=1.33 in c:\\users\\hp\\anaconda3\\lib\\site-packages (from langchain-core<0.4.0,>=0.3.14->langchain_community) (1.33)\n",
      "Requirement already satisfied: packaging<25,>=23.2 in c:\\users\\hp\\appdata\\roaming\\python\\python312\\site-packages (from langchain-core<0.4.0,>=0.3.14->langchain_community) (24.1)\n",
      "Requirement already satisfied: typing-extensions>=4.7 in c:\\users\\hp\\anaconda3\\lib\\site-packages (from langchain-core<0.4.0,>=0.3.14->langchain_community) (4.11.0)\n",
      "Requirement already satisfied: httpx<1,>=0.23.0 in c:\\users\\hp\\anaconda3\\lib\\site-packages (from langsmith<0.2.0,>=0.1.125->langchain_community) (0.27.2)\n",
      "Requirement already satisfied: orjson<4.0.0,>=3.9.14 in c:\\users\\hp\\anaconda3\\lib\\site-packages (from langsmith<0.2.0,>=0.1.125->langchain_community) (3.10.10)\n",
      "Requirement already satisfied: requests-toolbelt<2.0.0,>=1.0.0 in c:\\users\\hp\\anaconda3\\lib\\site-packages (from langsmith<0.2.0,>=0.1.125->langchain_community) (1.0.0)\n",
      "Requirement already satisfied: python-dotenv>=0.21.0 in c:\\users\\hp\\anaconda3\\lib\\site-packages (from pydantic-settings<3.0.0,>=2.4.0->langchain_community) (0.21.0)\n",
      "Requirement already satisfied: charset-normalizer<4,>=2 in c:\\users\\hp\\anaconda3\\lib\\site-packages (from requests<3,>=2->langchain_community) (2.0.4)\n",
      "Requirement already satisfied: idna<4,>=2.5 in c:\\users\\hp\\anaconda3\\lib\\site-packages (from requests<3,>=2->langchain_community) (3.7)\n",
      "Requirement already satisfied: urllib3<3,>=1.21.1 in c:\\users\\hp\\anaconda3\\lib\\site-packages (from requests<3,>=2->langchain_community) (2.2.2)\n",
      "Requirement already satisfied: certifi>=2017.4.17 in c:\\users\\hp\\anaconda3\\lib\\site-packages (from requests<3,>=2->langchain_community) (2024.6.2)\n",
      "Requirement already satisfied: greenlet!=0.4.17 in c:\\users\\hp\\anaconda3\\lib\\site-packages (from SQLAlchemy<3,>=1.4->langchain_community) (3.0.1)\n",
      "Requirement already satisfied: anyio in c:\\users\\hp\\anaconda3\\lib\\site-packages (from httpx<1,>=0.23.0->langsmith<0.2.0,>=0.1.125->langchain_community) (4.2.0)\n",
      "Requirement already satisfied: httpcore==1.* in c:\\users\\hp\\anaconda3\\lib\\site-packages (from httpx<1,>=0.23.0->langsmith<0.2.0,>=0.1.125->langchain_community) (1.0.6)\n",
      "Requirement already satisfied: sniffio in c:\\users\\hp\\anaconda3\\lib\\site-packages (from httpx<1,>=0.23.0->langsmith<0.2.0,>=0.1.125->langchain_community) (1.3.0)\n",
      "Requirement already satisfied: h11<0.15,>=0.13 in c:\\users\\hp\\anaconda3\\lib\\site-packages (from httpcore==1.*->httpx<1,>=0.23.0->langsmith<0.2.0,>=0.1.125->langchain_community) (0.14.0)\n",
      "Requirement already satisfied: jsonpointer>=1.9 in c:\\users\\hp\\anaconda3\\lib\\site-packages (from jsonpatch<2.0,>=1.33->langchain-core<0.4.0,>=0.3.14->langchain_community) (2.1)\n",
      "Requirement already satisfied: annotated-types>=0.6.0 in c:\\users\\hp\\anaconda3\\lib\\site-packages (from pydantic<3.0.0,>=2.7.4->langchain<0.4.0,>=0.3.6->langchain_community) (0.6.0)\n",
      "Requirement already satisfied: pydantic-core==2.23.4 in c:\\users\\hp\\anaconda3\\lib\\site-packages (from pydantic<3.0.0,>=2.7.4->langchain<0.4.0,>=0.3.6->langchain_community) (2.23.4)\n",
      "Requirement already satisfied: mypy-extensions>=0.3.0 in c:\\users\\hp\\anaconda3\\lib\\site-packages (from typing-inspect<1,>=0.4.0->dataclasses-json<0.7,>=0.5.7->langchain_community) (1.0.0)\n",
      "Downloading langchain_community-0.3.4-py3-none-any.whl (2.4 MB)\n",
      "   ---------------------------------------- 0.0/2.4 MB ? eta -:--:--\n",
      "    --------------------------------------- 0.0/2.4 MB ? eta -:--:--\n",
      "    --------------------------------------- 0.0/2.4 MB 393.8 kB/s eta 0:00:07\n",
      "   - -------------------------------------- 0.1/2.4 MB 655.4 kB/s eta 0:00:04\n",
      "   - -------------------------------------- 0.1/2.4 MB 731.4 kB/s eta 0:00:04\n",
      "   -- ------------------------------------- 0.2/2.4 MB 706.2 kB/s eta 0:00:04\n",
      "   --- ------------------------------------ 0.2/2.4 MB 901.1 kB/s eta 0:00:03\n",
      "   ---- ----------------------------------- 0.3/2.4 MB 787.7 kB/s eta 0:00:03\n",
      "   ----- ---------------------------------- 0.3/2.4 MB 912.8 kB/s eta 0:00:03\n",
      "   ------- -------------------------------- 0.5/2.4 MB 1.1 MB/s eta 0:00:02\n",
      "   -------- ------------------------------- 0.5/2.4 MB 1.1 MB/s eta 0:00:02\n",
      "   ---------- ----------------------------- 0.6/2.4 MB 1.2 MB/s eta 0:00:02\n",
      "   ----------- ---------------------------- 0.7/2.4 MB 1.2 MB/s eta 0:00:02\n",
      "   ------------ --------------------------- 0.8/2.4 MB 1.3 MB/s eta 0:00:02\n",
      "   ------------- -------------------------- 0.8/2.4 MB 1.3 MB/s eta 0:00:02\n",
      "   -------------- ------------------------- 0.9/2.4 MB 1.3 MB/s eta 0:00:02\n",
      "   --------------- ------------------------ 1.0/2.4 MB 1.3 MB/s eta 0:00:02\n",
      "   --------------- ------------------------ 1.0/2.4 MB 1.3 MB/s eta 0:00:02\n",
      "   --------------- ------------------------ 1.0/2.4 MB 1.3 MB/s eta 0:00:02\n",
      "   --------------- ------------------------ 1.0/2.4 MB 1.3 MB/s eta 0:00:02\n",
      "   --------------- ------------------------ 1.0/2.4 MB 1.3 MB/s eta 0:00:02\n",
      "   --------------- ------------------------ 1.0/2.4 MB 1.3 MB/s eta 0:00:02\n",
      "   --------------- ------------------------ 1.0/2.4 MB 967.8 kB/s eta 0:00:02\n",
      "   ----------------- ---------------------- 1.1/2.4 MB 1.0 MB/s eta 0:00:02\n",
      "   ------------------------ --------------- 1.5/2.4 MB 1.4 MB/s eta 0:00:01\n",
      "   ------------------------ --------------- 1.5/2.4 MB 1.3 MB/s eta 0:00:01\n",
      "   -------------------------- ------------- 1.6/2.4 MB 1.3 MB/s eta 0:00:01\n",
      "   --------------------------- ------------ 1.7/2.4 MB 1.4 MB/s eta 0:00:01\n",
      "   ----------------------------- ---------- 1.8/2.4 MB 1.4 MB/s eta 0:00:01\n",
      "   ------------------------------ --------- 1.8/2.4 MB 1.4 MB/s eta 0:00:01\n",
      "   ------------------------------- -------- 1.9/2.4 MB 1.4 MB/s eta 0:00:01\n",
      "   -------------------------------- ------- 2.0/2.4 MB 1.4 MB/s eta 0:00:01\n",
      "   ---------------------------------- ----- 2.1/2.4 MB 1.4 MB/s eta 0:00:01\n",
      "   ------------------------------------ --- 2.2/2.4 MB 1.4 MB/s eta 0:00:01\n",
      "   ------------------------------------- -- 2.3/2.4 MB 1.4 MB/s eta 0:00:01\n",
      "   -------------------------------------- - 2.3/2.4 MB 1.4 MB/s eta 0:00:01\n",
      "   -------------------------------------- - 2.3/2.4 MB 1.4 MB/s eta 0:00:01\n",
      "   -------------------------------------- - 2.3/2.4 MB 1.4 MB/s eta 0:00:01\n",
      "   ---------------------------------------  2.4/2.4 MB 1.4 MB/s eta 0:00:01\n",
      "   ---------------------------------------- 2.4/2.4 MB 1.4 MB/s eta 0:00:00\n",
      "Using cached dataclasses_json-0.6.7-py3-none-any.whl (28 kB)\n",
      "Downloading httpx_sse-0.4.0-py3-none-any.whl (7.8 kB)\n",
      "Downloading langchain-0.3.6-py3-none-any.whl (1.0 MB)\n",
      "   ---------------------------------------- 0.0/1.0 MB ? eta -:--:--\n",
      "   - -------------------------------------- 0.0/1.0 MB 991.0 kB/s eta 0:00:01\n",
      "   ---- ----------------------------------- 0.1/1.0 MB 1.4 MB/s eta 0:00:01\n",
      "   ------ --------------------------------- 0.2/1.0 MB 1.5 MB/s eta 0:00:01\n",
      "   ---------- ----------------------------- 0.3/1.0 MB 1.6 MB/s eta 0:00:01\n",
      "   ------------- -------------------------- 0.3/1.0 MB 1.6 MB/s eta 0:00:01\n",
      "   --------------- ------------------------ 0.4/1.0 MB 1.6 MB/s eta 0:00:01\n",
      "   ----------------- ---------------------- 0.5/1.0 MB 1.6 MB/s eta 0:00:01\n",
      "   -------------------- ------------------- 0.5/1.0 MB 1.6 MB/s eta 0:00:01\n",
      "   ------------------------ --------------- 0.6/1.0 MB 1.6 MB/s eta 0:00:01\n",
      "   ------------------------- -------------- 0.6/1.0 MB 1.6 MB/s eta 0:00:01\n",
      "   ------------------------- -------------- 0.6/1.0 MB 1.6 MB/s eta 0:00:01\n",
      "   ------------------------- -------------- 0.6/1.0 MB 1.6 MB/s eta 0:00:01\n",
      "   ------------------------- -------------- 0.6/1.0 MB 1.6 MB/s eta 0:00:01\n",
      "   ---------------------------------------  1.0/1.0 MB 1.6 MB/s eta 0:00:01\n",
      "   ---------------------------------------- 1.0/1.0 MB 1.5 MB/s eta 0:00:00\n",
      "Downloading langchain_core-0.3.14-py3-none-any.whl (408 kB)\n",
      "   ---------------------------------------- 0.0/408.7 kB ? eta -:--:--\n",
      "   --- ----------------------------------- 41.0/408.7 kB 991.0 kB/s eta 0:00:01\n",
      "   ------ --------------------------------- 61.4/408.7 kB 1.1 MB/s eta 0:00:01\n",
      "   -------- ------------------------------ 92.2/408.7 kB 751.6 kB/s eta 0:00:01\n",
      "   -------------- ----------------------- 153.6/408.7 kB 766.6 kB/s eta 0:00:01\n",
      "   ------------------ ------------------- 194.6/408.7 kB 841.6 kB/s eta 0:00:01\n",
      "   -------------------- ----------------- 225.3/408.7 kB 765.3 kB/s eta 0:00:01\n",
      "   ------------------------- ------------ 276.5/408.7 kB 811.7 kB/s eta 0:00:01\n",
      "   ----------------------------- -------- 317.4/408.7 kB 819.2 kB/s eta 0:00:01\n",
      "   --------------------------------- ---- 358.4/408.7 kB 825.0 kB/s eta 0:00:01\n",
      "   -------------------------------------  399.4/408.7 kB 890.4 kB/s eta 0:00:01\n",
      "   -------------------------------------- 408.7/408.7 kB 823.3 kB/s eta 0:00:00\n",
      "Downloading pydantic_settings-2.6.0-py3-none-any.whl (28 kB)\n",
      "Downloading marshmallow-3.23.0-py3-none-any.whl (49 kB)\n",
      "   ---------------------------------------- 0.0/49.5 kB ? eta -:--:--\n",
      "   --------------------------------- ------ 41.0/49.5 kB ? eta -:--:--\n",
      "   --------------------------------- ------ 41.0/49.5 kB ? eta -:--:--\n",
      "   ---------------------------------------- 49.5/49.5 kB 503.2 kB/s eta 0:00:00\n",
      "Using cached typing_inspect-0.9.0-py3-none-any.whl (8.8 kB)\n",
      "Installing collected packages: typing-inspect, marshmallow, httpx-sse, dataclasses-json, pydantic-settings, langchain-core, langchain, langchain_community\n",
      "  Attempting uninstall: langchain-core\n",
      "    Found existing installation: langchain-core 0.3.13\n",
      "    Uninstalling langchain-core-0.3.13:\n",
      "      Successfully uninstalled langchain-core-0.3.13\n",
      "  Attempting uninstall: langchain\n",
      "    Found existing installation: langchain 0.3.4\n",
      "    Uninstalling langchain-0.3.4:\n",
      "      Successfully uninstalled langchain-0.3.4\n",
      "Successfully installed dataclasses-json-0.6.7 httpx-sse-0.4.0 langchain-0.3.6 langchain-core-0.3.14 langchain_community-0.3.4 marshmallow-3.23.0 pydantic-settings-2.6.0 typing-inspect-0.9.0\n"
     ]
    }
   ],
   "source": [
    "! pip install langchain_community"
   ]
  },
  {
   "cell_type": "code",
   "execution_count": 16,
   "metadata": {},
   "outputs": [
    {
     "name": "stdout",
     "output_type": "stream",
     "text": [
      "CPU times: total: 31.2 ms\n",
      "Wall time: 1.94 s\n"
     ]
    },
    {
     "data": {
      "text/plain": [
       "' one\\n\\nWhy did the scarecrow win an award?\\n\\nBecause he was outstanding in his field!'"
      ]
     },
     "execution_count": 16,
     "metadata": {},
     "output_type": "execute_result"
    }
   ],
   "source": [
    "%%time\n",
    "from langchain.cache import InMemoryCache\n",
    "set_llm_cache(InMemoryCache())\n",
    "prompt = \"Tell me a joke a funny\"\n",
    "llm.invoke(prompt)"
   ]
  },
  {
   "cell_type": "code",
   "execution_count": 17,
   "metadata": {},
   "outputs": [
    {
     "name": "stdout",
     "output_type": "stream",
     "text": [
      "CPU times: total: 0 ns\n",
      "Wall time: 1.01 ms\n"
     ]
    },
    {
     "data": {
      "text/plain": [
       "' one\\n\\nWhy did the scarecrow win an award?\\n\\nBecause he was outstanding in his field!'"
      ]
     },
     "execution_count": 17,
     "metadata": {},
     "output_type": "execute_result"
    }
   ],
   "source": [
    "%%time\n",
    "llm.invoke(prompt)"
   ]
  },
  {
   "cell_type": "code",
   "execution_count": null,
   "metadata": {},
   "outputs": [],
   "source": []
  },
  {
   "cell_type": "markdown",
   "metadata": {},
   "source": [
    "### Streaming in Langchain\n",
    "\n",
    "streaming refer to the process of delivering the response in a continous stream of data instread of sending the  entire response at once.\n",
    "\n",
    "This allow the user to receive the response piece by piece  as it is generated, which can be useful for large responses or responses that are generated on the fly.REDUCE OVERALL LATENCY\n"
   ]
  },
  {
   "cell_type": "markdown",
   "metadata": {},
   "source": []
  },
  {
   "cell_type": "code",
   "execution_count": 18,
   "metadata": {},
   "outputs": [
    {
     "name": "stdout",
     "output_type": "stream",
     "text": [
      "Verse 1:\n",
      "Underneath the moonlit sky\n",
      "I code away, my fingers fly\n",
      "Lines of code, a digital dance\n",
      "In the night, I take my chance\n",
      "\n",
      "Chorus:\n",
      "Moonlight shining, coffee brewing\n",
      "In the late hours, my mind is stewing\n",
      "Coding away, lost in the flow\n",
      "With the moon as my guide, I let it all go\n",
      "\n",
      "Verse 2:\n",
      "The moon whispers secrets in the night\n",
      "As I type away, my code takes flight\n",
      "Coffee fuels my restless mind\n",
      "In the darkness, my ideas unwind\n",
      "\n",
      "Chorus:\n",
      "Moonlight shining, coffee brewing\n",
      "In the late hours, my mind is stewing\n",
      "Coding away, lost in the flow\n",
      "With the moon as my guide, I let it all go\n",
      "\n",
      "Bridge:\n",
      "In the quiet of the night\n",
      "I find solace in the moonlight\n",
      "As I code and sip my coffee\n",
      "I find peace in the stillness, so softly\n",
      "\n",
      "Chorus:\n",
      "Moonlight shining, coffee brewing\n",
      "In the late hours, my mind is stewing\n",
      "Coding away, lost in the flow\n",
      "With the moon as my guide, I let it all go\n",
      "\n",
      "Outro:\n",
      "Underneath the moon so bright\n",
      "I code and dream into the night\n",
      "With coffee in hand, I find my way\n",
      "In the moon's soft glow, I'll always stay.\n"
     ]
    }
   ],
   "source": [
    "# LLM Streaming\n",
    "from langchain_openai import ChatOpenAI\n",
    "llm = ChatOpenAI()\n",
    "prompt = \"Write a song about the Moon and coding and coffee\"\n",
    "print(llm.invoke(prompt).content)\n",
    "# output = llm.invoke(messages)\n",
    "# print(output.content)"
   ]
  },
  {
   "cell_type": "code",
   "execution_count": 19,
   "metadata": {},
   "outputs": [
    {
     "name": "stdout",
     "output_type": "stream",
     "text": [
      "Verse 1:\n",
      "Sitting in the glow of the moonlight\n",
      "My fingers dance across the keys\n",
      "Lines of code come to life\n",
      "In the silence of the night, I find my peace\n",
      "\n",
      "Chorus:\n",
      "Moonlight shining down on me\n",
      "As I code away with my cup of coffee\n",
      "The world may sleep, but I am alive\n",
      "In the moon's embrace, I thrive\n",
      "\n",
      "Verse 2:\n",
      "The coffee fuels my creativity\n",
      "As I unlock the secrets of the code\n",
      "Each line a puzzle to solve\n",
      "In the moon's gentle glow, I find my abode\n",
      "\n",
      "Chorus:\n",
      "Moonlight shining down on me\n",
      "As I code away with my cup of coffee\n",
      "The world may sleep, but I am alive\n",
      "In the moon's embrace, I thrive\n",
      "\n",
      "Bridge:\n",
      "The moon whispers secrets in the night\n",
      "Guiding me through the lines of code\n",
      "With each keystroke, I feel the magic\n",
      "In the quietude, I find my ode\n",
      "\n",
      "Chorus:\n",
      "Moonlight shining down on me\n",
      "As I code away with my cup of coffee\n",
      "The world may sleep, but I am alive\n",
      "In the moon's embrace, I thrive\n",
      "\n",
      "Outro:\n",
      "In the moonlight, I find my solace\n",
      "Coding and coffee, my constant companions\n",
      "Under the watchful eye of the moon\n",
      "I am a creator, in this late-night cocoon"
     ]
    }
   ],
   "source": [
    "for chunk in llm.stream(prompt):\n",
    "    print(chunk.content, end='', flush=True)"
   ]
  },
  {
   "cell_type": "code",
   "execution_count": null,
   "metadata": {},
   "outputs": [],
   "source": []
  }
 ],
 "metadata": {
  "kernelspec": {
   "display_name": "base",
   "language": "python",
   "name": "python3"
  },
  "language_info": {
   "codemirror_mode": {
    "name": "ipython",
    "version": 3
   },
   "file_extension": ".py",
   "mimetype": "text/x-python",
   "name": "python",
   "nbconvert_exporter": "python",
   "pygments_lexer": "ipython3",
   "version": "3.12.4"
  }
 },
 "nbformat": 4,
 "nbformat_minor": 2
}
