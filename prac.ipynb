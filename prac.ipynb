{
 "cells": [
  {
   "cell_type": "code",
   "execution_count": 3,
   "metadata": {},
   "outputs": [
    {
     "name": "stdout",
     "output_type": "stream",
     "text": [
      "12 3.4641016151377544\n"
     ]
    }
   ],
   "source": [
    "#square root\n",
    "import cmath\n",
    "x=12\n",
    "sqr= x**0.5\n",
    "print(x,sqr)"
   ]
  },
  {
   "cell_type": "code",
   "execution_count": 4,
   "metadata": {},
   "outputs": [
    {
     "name": "stdout",
     "output_type": "stream",
     "text": [
      "(1.272019649514069+0.7861513777574233j)\n"
     ]
    }
   ],
   "source": [
    "#complex num\n",
    "import cmath\n",
    "num=1+2j\n",
    "sqr=cmath.sqrt(num)\n",
    "print(sqr)"
   ]
  },
  {
   "cell_type": "code",
   "execution_count": 5,
   "metadata": {},
   "outputs": [
    {
     "name": "stdout",
     "output_type": "stream",
     "text": [
      "104.0\n"
     ]
    }
   ],
   "source": [
    "#celcius to ferenhite\n",
    "c=40\n",
    "f=(c*1.8)+32\n",
    "print(f)"
   ]
  },
  {
   "cell_type": "code",
   "execution_count": 7,
   "metadata": {},
   "outputs": [
    {
     "name": "stdout",
     "output_type": "stream",
     "text": [
      "a= 2 b= 3 c= 4 area= 2.9047375096555625\n"
     ]
    }
   ],
   "source": [
    "#area of triangle\n",
    "a=2\n",
    "b=3\n",
    "c=4\n",
    "s=(a+b+c)/2\n",
    "area=(s*(s-a)*(s-b)*(s-c))**0.5\n",
    "print(\"a=\",a,\"b=\",b,\"c=\",c,\"area=\",area)"
   ]
  },
  {
   "cell_type": "code",
   "execution_count": 8,
   "metadata": {},
   "outputs": [
    {
     "name": "stdout",
     "output_type": "stream",
     "text": [
      "discrimination= -28 solution1= (-0.75-1.3228756555322954j) solution2= (-0.75+1.3228756555322954j)\n"
     ]
    }
   ],
   "source": [
    "#quadratic ax^2+bx+c\n",
    "a=2\n",
    "b=3\n",
    "c=4\n",
    "d=(a**2)-(4*a*c)\n",
    "s1=(-b-cmath.sqrt(d))/(2*a)\n",
    "s2=(-b+cmath.sqrt(d))/(2*a)\n",
    "print(\"discrimination=\",d,\"solution1=\",s1,\"solution2=\",s2)\n",
    "\n"
   ]
  },
  {
   "cell_type": "code",
   "execution_count": 9,
   "metadata": {},
   "outputs": [
    {
     "name": "stdout",
     "output_type": "stream",
     "text": [
      "kilo= 12 miles= 7.45644\n"
     ]
    }
   ],
   "source": [
    "#kilo into mile\n",
    "x=12\n",
    "c=0.62137\n",
    "m=x*c\n",
    "print(\"kilo=\",x,\"miles=\",m)"
   ]
  },
  {
   "cell_type": "code",
   "execution_count": 14,
   "metadata": {},
   "outputs": [
    {
     "name": "stdout",
     "output_type": "stream",
     "text": [
      "perfect score\n"
     ]
    }
   ],
   "source": [
    "#Write a Python program that takes the score of a student and prints their grade based on the following conditions:\n",
    "#If the score is greater than or equal to 90, print \"A\".\n",
    "#If the score is greater than or equal to 80 but less than 90, print \"B\".\n",
    "#If the score is greater than or equal to 70 but less than 80, print \"C\".\n",
    "#If the score is greater than or equal to 60 but less than 70, print \"D\".\n",
    "#Otherwise, print \"F\". Additionally, if the score is 100, print \"Perfect score!\" as well.\n",
    "x=100\n",
    "if(x==100):\n",
    "    print(\"perfect score\")\n",
    "elif(x>=90 and x!=100):\n",
    "    print(\"a\")\n",
    "elif(x>=80 and x<90):\n",
    "    print(\"b\")\n",
    "elif(x>=70 and x<80):\n",
    "    print(\"c\")\n",
    "else:\n",
    "    print(\"f\")\n"
   ]
  },
  {
   "cell_type": "code",
   "execution_count": 42,
   "metadata": {},
   "outputs": [
    {
     "name": "stdout",
     "output_type": "stream",
     "text": [
      "4\n"
     ]
    }
   ],
   "source": [
    "#list\n",
    "l1=[1,2,3,4]\n",
    "#l1.append(7)\n",
    "l2=[6,9,7,8]\n",
    "#l2.extend(l1)\n",
    "#l2.sort(reverse=False)\n",
    "#del l2[2] #index num\n",
    "#l2.pop(-2) #index\n",
    "#l2=l1[0::2]\n",
    "#l2.remove(6) #num\n",
    "#l2.insert(0,10)\n",
    "print(len(l2))\n"
   ]
  },
  {
   "cell_type": "code",
   "execution_count": 46,
   "metadata": {},
   "outputs": [
    {
     "name": "stdout",
     "output_type": "stream",
     "text": [
      "<class 'str'>\n",
      "<class 'int'>\n",
      "<class 'float'>\n",
      "<class 'complex'>\n",
      "<class 'list'>\n",
      "<class 'tuple'>\n",
      "<class 'dict'>\n",
      "<class 'set'>\n",
      "<class 'frozenset'>\n",
      "<class 'bool'>\n",
      "<class 'bytes'>\n",
      "<class 'bytearray'>\n",
      "<class 'NoneType'>\n"
     ]
    }
   ],
   "source": [
    "name = \"John Doe\"\n",
    "print(type(name))\n",
    "num1 = 10\n",
    "print(type(num1))\n",
    "num2 = 10.5\n",
    "print(type(num2))\n",
    "num3 = 2j\n",
    "print(type(num3))\n",
    "ls = [1,2,3,4,5]\n",
    "print(type(ls))\n",
    "tp = (1,2,3,4,5)\n",
    "print(type(tp))\n",
    "dic = {\"name\":\"John Doe\", \"age\":26}\n",
    "print(type(dic))\n",
    "set = {\"John Doe\",26}\n",
    "print(type(set))\n",
    "frst = frozenset({\"hello\"})\n",
    "print(type(frst))\n",
    "bln = True\n",
    "print(type(bln))\n",
    "\n",
    "byt = b'hello'\n",
    "print(type(byt))\n",
    "bytearray = bytearray(b'hello')\n",
    "print(type(bytearray))\n",
    "none = None\n",
    "print(type(none))"
   ]
  },
  {
   "cell_type": "code",
   "execution_count": 54,
   "metadata": {},
   "outputs": [
    {
     "name": "stdout",
     "output_type": "stream",
     "text": [
      "[1, 2, 4, 'hello']\n"
     ]
    }
   ],
   "source": [
    "#tuple\n",
    "tup=(1,2,3,4,\"hello\")\n",
    "y=list(tup)\n",
    "#y.remove(\"hello\")\n",
    "#y.pop(3) #index\n",
    "del y[2] #index\n",
    "print(y)"
   ]
  },
  {
   "cell_type": "code",
   "execution_count": 55,
   "metadata": {},
   "outputs": [
    {
     "name": "stdout",
     "output_type": "stream",
     "text": [
      "aimen\n"
     ]
    }
   ],
   "source": [
    "#dictionary\n",
    "thisdict={\"name\":\"aimen\", \"age\":\"54\",}\n",
    "thisdict[\"first n ame\"]=\"asotosh\"\n",
    "print(thisdict[\"name\"])"
   ]
  },
  {
   "cell_type": "code",
   "execution_count": 56,
   "metadata": {},
   "outputs": [
    {
     "name": "stdout",
     "output_type": "stream",
     "text": [
      "aimen\n",
      "dict_values(['aimen', '54', 'hello mira'])\n",
      "dict_keys(['name', 'age', 'last name'])\n",
      "{'name': 'aimen', 'age': '54', 'last name': 'hello mira'}\n"
     ]
    }
   ],
   "source": [
    "thisdict={\"name\":\"aimen\", \"age\":\"54\",}\n",
    "\n",
    "x = thisdict.get(\"name\")\n",
    "print(x)\n",
    "thisdict.update({\"last name\":\"hello mira\"})\n",
    "print( thisdict.values())\n",
    "print(thisdict.keys())\n",
    "print(thisdict)"
   ]
  },
  {
   "cell_type": "code",
   "execution_count": 58,
   "metadata": {},
   "outputs": [
    {
     "name": "stdout",
     "output_type": "stream",
     "text": [
      "{1, 2, 3, 4, 5, 6, 7}\n",
      "{4}\n"
     ]
    }
   ],
   "source": [
    "#sets\n",
    "s1={1,2,3,4}\n",
    "s2={4,5,6,7}\n",
    "#a=s1.union(s2)\n",
    "a=s1 | s2\n",
    "print(a)\n",
    "#b=s1.intersection(s2)\n",
    "b=s1 & s2\n",
    "print(b)"
   ]
  },
  {
   "cell_type": "code",
   "execution_count": 59,
   "metadata": {},
   "outputs": [
    {
     "name": "stdout",
     "output_type": "stream",
     "text": [
      "pass\n",
      "1\n",
      "2\n",
      "3\n",
      "4\n",
      "5\n",
      "0\n",
      "1\n",
      "2\n",
      "3\n",
      "4\n"
     ]
    }
   ],
   "source": [
    "x = 10\n",
    "print(\"pass\") if x == 10 else print(\"x is not 10\")\n",
    "\n",
    "# 18 while loop, for loop\n",
    "li = [1,2,3,4,5]\n",
    "\n",
    "for x in li:\n",
    "    print(x)\n",
    "\n",
    "i=0\n",
    "while i<5:\n",
    "     print(i)\n",
    "     i+=1"
   ]
  },
  {
   "cell_type": "code",
   "execution_count": 60,
   "metadata": {},
   "outputs": [
    {
     "name": "stdout",
     "output_type": "stream",
     "text": [
      "John John\n",
      "John Ashutosh\n",
      "John John Doe\n",
      "Ashutosh John\n",
      "Ashutosh Ashutosh\n",
      "Ashutosh John Doe\n",
      "John Doe John\n",
      "John Doe Ashutosh\n",
      "John Doe John Doe\n"
     ]
    }
   ],
   "source": [
    "#19 nested loops\n",
    "\n",
    "name1 = [\"John\",\"Ashutosh\",\"John Doe\"]\n",
    "name2 = [\"John\",\"Ashutosh\",\"John Doe\"]\n",
    "for i in name1:\n",
    "    for j in name2:\n",
    "         print(i,j)"
   ]
  },
  {
   "cell_type": "code",
   "execution_count": 61,
   "metadata": {},
   "outputs": [
    {
     "name": "stdout",
     "output_type": "stream",
     "text": [
      "['orange']\n"
     ]
    }
   ],
   "source": [
    "ls1=[\"apple\",\"orange\",\"banana\"]\n",
    "ls2=[]\n",
    "for i in ls1:\n",
    "    if \"o\"in i:\n",
    "        ls2.append(i)\n",
    "print(ls2)"
   ]
  },
  {
   "cell_type": "code",
   "execution_count": 64,
   "metadata": {},
   "outputs": [
    {
     "name": "stdout",
     "output_type": "stream",
     "text": [
      "<class 'list_iterator'>\n",
      "1\n",
      "2\n",
      "3\n",
      "4\n",
      "5\n"
     ]
    },
    {
     "ename": "StopIteration",
     "evalue": "",
     "output_type": "error",
     "traceback": [
      "\u001b[1;31m---------------------------------------------------------------------------\u001b[0m",
      "\u001b[1;31mStopIteration\u001b[0m                             Traceback (most recent call last)",
      "Cell \u001b[1;32mIn[64], line 10\u001b[0m\n\u001b[0;32m      8\u001b[0m \u001b[38;5;28mprint\u001b[39m(\u001b[38;5;28mnext\u001b[39m(ls2))\n\u001b[0;32m      9\u001b[0m \u001b[38;5;28mprint\u001b[39m(\u001b[38;5;28mnext\u001b[39m(ls2))\n\u001b[1;32m---> 10\u001b[0m \u001b[38;5;28mprint\u001b[39m(\u001b[38;5;28;43mnext\u001b[39;49m\u001b[43m(\u001b[49m\u001b[43mls2\u001b[49m\u001b[43m)\u001b[49m)\n",
      "\u001b[1;31mStopIteration\u001b[0m: "
     ]
    }
   ],
   "source": [
    "#21 iterators and iterables\n",
    "ls = [1,2,3,4,5]\n",
    "ls2 = iter(ls)\n",
    "print(type(ls2))\n",
    "print(next(ls2))\n",
    "print(next(ls2))\n",
    "print(next(ls2))\n",
    "print(next(ls2))\n",
    "print(next(ls2))\n",
    "print(next(ls2))"
   ]
  },
  {
   "cell_type": "code",
   "execution_count": 68,
   "metadata": {},
   "outputs": [
    {
     "name": "stdout",
     "output_type": "stream",
     "text": [
      "hello world\n",
      "hello world\n",
      "hello world hello world <function s at 0x000002440897EDE0> {'name': 'John Doe', 'age': 26, 'city': 'New York'}\n",
      "John Doe 26 New York\n",
      "10 12\n",
      "12 hello world\n"
     ]
    }
   ],
   "source": [
    "# 22 Function and variable scope\n",
    "\n",
    "def s():\n",
    "     return \"hello world\"\n",
    "print(s())\n",
    "p = s()\n",
    "print(p)\n",
    "\n",
    "def sum(**q):\n",
    "     print(\"hello world\",p, s,q)\n",
    "     return q[\"name\"] + \" \" + str(q[\"age\"] )+ \" \" + q[\"city\"]\n",
    "\n",
    "print(sum(name=\"John Doe\", age=26, city=\"New York\"))\n",
    "\n",
    "s = 12\n",
    "def f():\n",
    "     p = 10\n",
    "     print(p,s)\n",
    "f()\n",
    "print(s,p)"
   ]
  },
  {
   "cell_type": "code",
   "execution_count": 69,
   "metadata": {},
   "outputs": [
    {
     "name": "stdout",
     "output_type": "stream",
     "text": [
      "25\n"
     ]
    }
   ],
   "source": [
    "# 23 lambda expressions\n",
    "\n",
    "\n",
    "p = lambda x: x**2\n",
    "print(p(5))"
   ]
  },
  {
   "cell_type": "code",
   "execution_count": 73,
   "metadata": {},
   "outputs": [
    {
     "name": "stdout",
     "output_type": "stream",
     "text": [
      "[None, 'even', None, 'even', None, 'even', None, 'even', None, 'even']\n"
     ]
    }
   ],
   "source": [
    "def s(n):\n",
    "     if n%2 == 0:\n",
    "         return \"even\"\n",
    "numbers = [1,2,3,4,5,6,7,8,9]\n",
    "even_numbers = list(map(s,[1,2,3,4,5,6,7,8,9,10]))\n",
    "print(even_numbers)\n"
   ]
  },
  {
   "cell_type": "code",
   "execution_count": 74,
   "metadata": {},
   "outputs": [
    {
     "name": "stdout",
     "output_type": "stream",
     "text": [
      "[2, 4, 6, 8, 10]\n"
     ]
    }
   ],
   "source": [
    "def s(n):\n",
    "     if n%2 == 0:\n",
    "         return \"even\"\n",
    "numbers = [1,2,3,4,5,6,7,8,9]\n",
    "even_numbers = list(filter(s,[1,2,3,4,5,6,7,8,9,10]))\n",
    "print(even_numbers)"
   ]
  },
  {
   "cell_type": "code",
   "execution_count": 76,
   "metadata": {},
   "outputs": [
    {
     "ename": "FileNotFoundError",
     "evalue": "[Errno 2] No such file or directory: 'example.txt'",
     "output_type": "error",
     "traceback": [
      "\u001b[1;31m---------------------------------------------------------------------------\u001b[0m",
      "\u001b[1;31mFileNotFoundError\u001b[0m                         Traceback (most recent call last)",
      "Cell \u001b[1;32mIn[76], line 7\u001b[0m\n\u001b[0;32m      3\u001b[0m \u001b[38;5;28;01mimport\u001b[39;00m \u001b[38;5;21;01mos\u001b[39;00m\n\u001b[0;32m      5\u001b[0m os\u001b[38;5;241m.\u001b[39mremove(\u001b[38;5;124m\"\u001b[39m\u001b[38;5;124mexample.txt\u001b[39m\u001b[38;5;124m\"\u001b[39m)\n\u001b[1;32m----> 7\u001b[0m f \u001b[38;5;241m=\u001b[39m \u001b[38;5;28;43mopen\u001b[39;49m\u001b[43m(\u001b[49m\u001b[38;5;124;43m\"\u001b[39;49m\u001b[38;5;124;43mexample.txt\u001b[39;49m\u001b[38;5;124;43m\"\u001b[39;49m\u001b[43m,\u001b[49m\u001b[38;5;124;43m\"\u001b[39;49m\u001b[38;5;124;43mr\u001b[39;49m\u001b[38;5;124;43m\"\u001b[39;49m\u001b[43m)\u001b[49m\n\u001b[0;32m      8\u001b[0m f\u001b[38;5;241m.\u001b[39mwrite(\u001b[38;5;124m\"\u001b[39m\u001b[38;5;124mHello, World!\u001b[39m\u001b[38;5;130;01m\\n\u001b[39;00m\u001b[38;5;124m\"\u001b[39m)\n\u001b[0;32m      9\u001b[0m \u001b[38;5;28mprint\u001b[39m(f\u001b[38;5;241m.\u001b[39mreadline(\u001b[38;5;241m5\u001b[39m))\n",
      "File \u001b[1;32m~\\AppData\\Roaming\\Python\\Python312\\site-packages\\IPython\\core\\interactiveshell.py:324\u001b[0m, in \u001b[0;36m_modified_open\u001b[1;34m(file, *args, **kwargs)\u001b[0m\n\u001b[0;32m    317\u001b[0m \u001b[38;5;28;01mif\u001b[39;00m file \u001b[38;5;129;01min\u001b[39;00m {\u001b[38;5;241m0\u001b[39m, \u001b[38;5;241m1\u001b[39m, \u001b[38;5;241m2\u001b[39m}:\n\u001b[0;32m    318\u001b[0m     \u001b[38;5;28;01mraise\u001b[39;00m \u001b[38;5;167;01mValueError\u001b[39;00m(\n\u001b[0;32m    319\u001b[0m         \u001b[38;5;124mf\u001b[39m\u001b[38;5;124m\"\u001b[39m\u001b[38;5;124mIPython won\u001b[39m\u001b[38;5;124m'\u001b[39m\u001b[38;5;124mt let you open fd=\u001b[39m\u001b[38;5;132;01m{\u001b[39;00mfile\u001b[38;5;132;01m}\u001b[39;00m\u001b[38;5;124m by default \u001b[39m\u001b[38;5;124m\"\u001b[39m\n\u001b[0;32m    320\u001b[0m         \u001b[38;5;124m\"\u001b[39m\u001b[38;5;124mas it is likely to crash IPython. If you know what you are doing, \u001b[39m\u001b[38;5;124m\"\u001b[39m\n\u001b[0;32m    321\u001b[0m         \u001b[38;5;124m\"\u001b[39m\u001b[38;5;124myou can use builtins\u001b[39m\u001b[38;5;124m'\u001b[39m\u001b[38;5;124m open.\u001b[39m\u001b[38;5;124m\"\u001b[39m\n\u001b[0;32m    322\u001b[0m     )\n\u001b[1;32m--> 324\u001b[0m \u001b[38;5;28;01mreturn\u001b[39;00m \u001b[43mio_open\u001b[49m\u001b[43m(\u001b[49m\u001b[43mfile\u001b[49m\u001b[43m,\u001b[49m\u001b[43m \u001b[49m\u001b[38;5;241;43m*\u001b[39;49m\u001b[43margs\u001b[49m\u001b[43m,\u001b[49m\u001b[43m \u001b[49m\u001b[38;5;241;43m*\u001b[39;49m\u001b[38;5;241;43m*\u001b[39;49m\u001b[43mkwargs\u001b[49m\u001b[43m)\u001b[49m\n",
      "\u001b[1;31mFileNotFoundError\u001b[0m: [Errno 2] No such file or directory: 'example.txt'"
     ]
    }
   ],
   "source": [
    "# 26 file handling / excaption/error handling\n",
    "\n",
    "import os\n",
    "\n",
    "os.remove(\"example.txt\")\n",
    "\n",
    "f = open(\"example.txt\",\"r\")\n",
    "f.write(\"Hello, World!\\n\")\n",
    "print(f.readline(5))\n",
    "f.close()\n",
    "\n",
    "g = open(\"example2.txt\",\"r\")\n",
    "g.write(\"Hello, World!\\n\")\n",
    "print(g.read())\n"
   ]
  },
  {
   "cell_type": "code",
   "execution_count": 79,
   "metadata": {},
   "outputs": [
    {
     "data": {
      "text/plain": [
       "<bound method person.show of <__main__.person object at 0x00000244083ED340>>"
      ]
     },
     "execution_count": 79,
     "metadata": {},
     "output_type": "execute_result"
    }
   ],
   "source": [
    "#class and object\n",
    "class person:\n",
    "    def __init__(self, name, age):\n",
    "        self.name=name\n",
    "        self.age=age\n",
    "    def show(self):\n",
    "        print(f\"name= {self.name}, age= {self.age}\")\n",
    "    def __del__(self):\n",
    "        print(f\"name{self.name} is deleted\")\n",
    "\n",
    "p=person(\"aiome\", 45)\n",
    "p.show\n",
    "del p\n",
    "#print(p.name, p.age)\n",
    " \n"
   ]
  },
  {
   "cell_type": "code",
   "execution_count": 81,
   "metadata": {},
   "outputs": [
    {
     "name": "stdout",
     "output_type": "stream",
     "text": [
      "cat\n"
     ]
    }
   ],
   "source": [
    "#single inheritence means 1 parent 1 chil\n",
    "class Animal:\n",
    "     def __init__(self, name):\n",
    "         self.name = name\n",
    "class Cat(Animal):\n",
    "     def meow(self):\n",
    "         print( self.name )\n",
    "c = Cat(\"cat\")\n",
    "c.meow()"
   ]
  },
  {
   "cell_type": "code",
   "execution_count": 85,
   "metadata": {},
   "outputs": [
    {
     "name": "stdout",
     "output_type": "stream",
     "text": [
      "abc 45\n"
     ]
    }
   ],
   "source": [
    "#mutliple and hirearical means grandchild\n",
    "class person1:\n",
    "    def __init__(self,name):\n",
    "        self.name=name\n",
    "class person2(person1):\n",
    "    def __init__(self,name,age):\n",
    "        person1.__init__(self,name)\n",
    "        self.age=age\n",
    "class person3(person2):\n",
    "    def __init__(self,name,age):\n",
    "        person2.__init__(self,name,age)\n",
    "    def show(self):\n",
    "        print(self.name,self.age)\n",
    "p=person3(\"abc\",45)\n",
    "p.show()"
   ]
  },
  {
   "cell_type": "code",
   "execution_count": 86,
   "metadata": {},
   "outputs": [
    {
     "name": "stdout",
     "output_type": "stream",
     "text": [
      "p1 info\n"
     ]
    }
   ],
   "source": [
    "#multilevel , mro more than 1 parent\n",
    "class p1:\n",
    "    def info(self):\n",
    "             print(\"p1 info\")\n",
    "class p2:\n",
    "       def info(self):\n",
    "              print(\"p2 info\")\n",
    "class child12(p1,p2):\n",
    "       pass\n",
    "p=child12()\n",
    "p.info()\n",
    "       "
   ]
  },
  {
   "cell_type": "code",
   "execution_count": 87,
   "metadata": {},
   "outputs": [
    {
     "name": "stdout",
     "output_type": "stream",
     "text": [
      "p1 show\n",
      "p1 show\n"
     ]
    }
   ],
   "source": [
    "#polymorphism\n",
    "class p1:\n",
    "    def display(self):\n",
    "        print(\"p1 show\")\n",
    "class p2:\n",
    "    def display(self):\n",
    "        print(\"p2 show\")\n",
    "s=p1()\n",
    "s.display()\n",
    "s2=p2()\n",
    "s.display()\n"
   ]
  },
  {
   "cell_type": "code",
   "execution_count": 90,
   "metadata": {},
   "outputs": [
    {
     "name": "stdout",
     "output_type": "stream",
     "text": [
      "name= aimen, salary= 30000\n"
     ]
    }
   ],
   "source": [
    "#abstraction\n",
    "class e:\n",
    "    def __init__(self,name,salary):\n",
    "        self.name=name\n",
    "        self.salary=salary\n",
    "    def show(self):\n",
    "        total=self.salary+20000\n",
    "        print(f\"name= {self.name}, salary= {total}\")\n",
    "s=e(\"aimen\", 10000)\n",
    "s.show()\n",
    "\n"
   ]
  }
 ],
 "metadata": {
  "kernelspec": {
   "display_name": "Python 3",
   "language": "python",
   "name": "python3"
  },
  "language_info": {
   "codemirror_mode": {
    "name": "ipython",
    "version": 3
   },
   "file_extension": ".py",
   "mimetype": "text/x-python",
   "name": "python",
   "nbconvert_exporter": "python",
   "pygments_lexer": "ipython3",
   "version": "3.12.5"
  }
 },
 "nbformat": 4,
 "nbformat_minor": 2
}
