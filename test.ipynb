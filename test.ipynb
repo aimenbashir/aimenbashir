{
 "cells": [
  {
   "cell_type": "code",
   "execution_count": 2,
   "metadata": {},
   "outputs": [
    {
     "name": "stdout",
     "output_type": "stream",
     "text": [
      "4.10.0\n"
     ]
    }
   ],
   "source": [
    "import cv2\n",
    "print(cv2.__version__)\n"
   ]
  },
  {
   "cell_type": "code",
   "execution_count": 1,
   "metadata": {},
   "outputs": [],
   "source": [
    "import numpy as np\n",
    "import cv2\n",
    "img= cv2.imread('image.jpg')\n",
    "cv2.imshow('original', img)\n",
    "cv2.waitKey(0)\n",
    "cv2.destroyAllWindows()"
   ]
  },
  {
   "cell_type": "code",
   "execution_count": 2,
   "metadata": {},
   "outputs": [],
   "source": [
    "import numpy as np\n",
    "import cv2\n",
    "img= cv2.imread('image.jpg', 0)\n",
    "cv2.imshow('original', img)\n",
    "cv2.waitKey(0)\n",
    "cv2.destroyAllWindows()"
   ]
  },
  {
   "cell_type": "code",
   "execution_count": 6,
   "metadata": {},
   "outputs": [],
   "source": [
    "import cv2\n",
    "import numpy as np\n",
    "\n",
    "# Step 1: Read the image\n",
    "img = cv2.imread('face2.jpg')\n",
    "\n",
    "# Step 2: Convert the image to grayscale\n",
    "gray = cv2.cvtColor(img, cv2.COLOR_BGR2GRAY)\n",
    "\n",
    "# Step 3: Apply a binary threshold to create a mask\n",
    "_, thresh = cv2.threshold(gray, 240, 255, cv2.THRESH_BINARY_INV)\n",
    "\n",
    "# Step 4: Find contours\n",
    "contours, _ = cv2.findContours(thresh, cv2.RETR_EXTERNAL, cv2.CHAIN_APPROX_SIMPLE)\n",
    "\n",
    "# Step 5: Create a mask using the largest contour\n",
    "mask = np.zeros_like(img)\n",
    "cv2.drawContours(mask, contours, -1, (255, 255, 255), thickness=cv2.FILLED)\n",
    "\n",
    "# Step 6: Apply the mask to the original image to remove the background\n",
    "result = cv2.bitwise_and(img, mask)\n",
    "\n",
    "# Convert mask to grayscale and apply it to get the final result\n",
    "mask_gray = cv2.cvtColor(mask, cv2.COLOR_BGR2GRAY)\n",
    "result[mask_gray == 0] = [0, 0, 0]  # Set the background to black\n",
    "\n",
    "# Show the original and result images\n",
    "cv2.imshow('Original Image', img)\n",
    "cv2.imshow('Background Removed', result)\n",
    "cv2.waitKey(0)\n",
    "cv2.destroyAllWindows()\n",
    "\n",
    "# Optionally, save the result\n",
    "#cv2.imwrite('python\\myvenv', result)\n"
   ]
  },
  {
   "cell_type": "code",
   "execution_count": 7,
   "metadata": {},
   "outputs": [],
   "source": [
    "#import cv2\n",
    "#import numpy as np\n",
    "\n",
    "# Step 1: Read the image\n",
    "#img = cv2.imread('face2.jpg')\n",
    "\n",
    "# Step 2: Convert the image to grayscale\n",
    "#gray = cv2.cvtColor(img, cv2.COLOR_BGR2GRAY)\n",
    "\n",
    "# Step 3: Apply a binary threshold to create a mask\n",
    "#_, thresh = cv2.threshold(gray, 240, 255, cv2.THRESH_BINARY_INV)\n",
    "\n",
    "# Step 4: Find contours\n",
    "#contours, _ = cv2.findContours(thresh, cv2.RETR_EXTERNAL, cv2.CHAIN_APPROX_SIMPLE)\n",
    "\n",
    "# Step 5: Create a mask using the largest contour\n",
    "#mask = np.zeros_like(gray)\n",
    "#cv2.drawContours(mask, contours, -1, (255), thickness=cv2.FILLED)\n",
    "\n",
    "# Step 6: Create a 4-channel (RGBA) image with transparency\n",
    "#rgba = cv2.cvtColor(img, cv2.COLOR_BGR2BGRA)\n",
    "\n",
    "# Set the alpha channel based on the mask\n",
    "#rgba[:, :, 3] = mask\n",
    "\n",
    "# Show the original and result images\n",
    "#cv2.imshow('Original Image', img)\n",
    "#cv2.imshow('Background Removed (Transparent)', rgba)\n",
    "#cv2.waitKey(0)\n",
    "#cv2.destroyAllWindows()\n",
    "\n",
    "# Optionally, save the result with a transparent background\n",
    "#cv2.imwrite('path/to/save/background_removed.png', rgba)\n"
   ]
  }
 ],
 "metadata": {
  "kernelspec": {
   "display_name": "myvenv",
   "language": "python",
   "name": "python3"
  },
  "language_info": {
   "codemirror_mode": {
    "name": "ipython",
    "version": 3
   },
   "file_extension": ".py",
   "mimetype": "text/x-python",
   "name": "python",
   "nbconvert_exporter": "python",
   "pygments_lexer": "ipython3",
   "version": "3.12.5"
  }
 },
 "nbformat": 4,
 "nbformat_minor": 2
}
